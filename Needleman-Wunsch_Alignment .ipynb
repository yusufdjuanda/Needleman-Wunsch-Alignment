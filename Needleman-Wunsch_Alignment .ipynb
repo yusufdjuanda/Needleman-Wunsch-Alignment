{
 "cells": [
  {
   "cell_type": "markdown",
   "id": "5f3b3d20",
   "metadata": {},
   "source": [
    "# Needleman-Wunsch Alignment Assignment\n",
    "\n",
    "**Name**: Yusuf Maulana\n",
    "\n",
    "**Student ID**: M610111010\n",
    "\n",
    "**Goal**\n",
    "- Generating dynamic programming table \n",
    "- Providing the aligned sequence based on the traceback route\n",
    "\n",
    "**Sequence**\n",
    "- ATCCGAT\n",
    "- ATCTGT\n"
   ]
  },
  {
   "cell_type": "markdown",
   "id": "84ac7928",
   "metadata": {},
   "source": [
    "# Import library\n"
   ]
  },
  {
   "cell_type": "code",
   "execution_count": 1,
   "id": "fbdefcc5",
   "metadata": {},
   "outputs": [],
   "source": [
    "import numpy as np\n",
    "import pandas as pd"
   ]
  },
  {
   "cell_type": "markdown",
   "id": "a7634ffb",
   "metadata": {},
   "source": [
    "# Alignment function\n",
    "- matching_condition: Anonymous function that will return +1 if the nuc sequence is matched and -1 if not\n",
    "- traceback(matrix, row, col): To traceback the alignment and provide aligned seq in the first_seq and second_seq list\n",
    "- alignment(x,y): To create a matrix with initialization column and row and to provide score values of each cell matrix based on the given rule "
   ]
  },
  {
   "cell_type": "code",
   "execution_count": 19,
   "id": "0326a3c3",
   "metadata": {},
   "outputs": [],
   "source": [
    "first_seq = [] # seq assigned in y variable\n",
    "second_seq = [] # seq assigned in x variable\n",
    "\n",
    "matching_condition = lambda x, y, row, col: -1 if x[row-1] != y[col-1] else 1 # using (-1) to match the index (zero index-based)\n",
    "\n",
    "def traceback(matrix, row, col):\n",
    "       \n",
    "    if row != 0 or col != 0: # run function only if the matrix cell is not in the upper left matrix (zero index)\n",
    "         \n",
    "        rule_1 = matrix[row - 1][col - 1] + matching_condition(x, y, row, col)\n",
    "        rule_2 = matrix[row][col - 1] - 2\n",
    "        rule_3 = matrix[row - 1][col] - 2 \n",
    "\n",
    "        max_score = max(\n",
    "                    rule_1,\n",
    "                    rule_2,\n",
    "                    rule_3)\n",
    "\n",
    "        if max_score == rule_1: # the seq from the index x and y are aligned and will return the matching sequence\n",
    "            first_seq.append(y[col-1])\n",
    "            second_seq.append(x[row-1])\n",
    "            return traceback(matrix, row - 1, col - 1) # traceback going to the above left cell\n",
    "        \n",
    "        elif max_score == rule_2: # no matching sequence, gap the nucleotide on the second seq\n",
    "            first_seq.append(y[col-1])\n",
    "            second_seq.append(\"-\")\n",
    "            return traceback(matrix, row, col - 1) # traceback going to the left cell\n",
    "\n",
    "        elif max_score == rule_3: # no matching sequence, gap the nucleotide on the first seq\n",
    "            first_seq.append(\"-\")\n",
    "            second_seq.append(x[row-1])\n",
    "            return traceback(matrix, row - 1, col) # traceback going to the above cell\n",
    "        \n",
    "def alignment(x,y):\n",
    "\n",
    "    col = len(y)\n",
    "    row = len(x)\n",
    "    matrix = [[0 for i in range(col + 1)] for j in range(row + 1)] # to provide basic matrix with the length of seq x and seq y\n",
    "\n",
    "    for i in range(1, row + 1): # to provide initialization row for seq x\n",
    "        matrix[i][0] = -i\n",
    "\n",
    "    for j in range(1, col + 1): # to provide initialization row for seq y\n",
    "        matrix[0][j] = -j\n",
    "\n",
    "    for i in range(1, row + 1): \n",
    "        for j in range(1, col + 1):\n",
    "            matrix[i][j] = max(\n",
    "                matrix[i - 1][j - 1] + matching_condition(x, y, i, j),\n",
    "                matrix[i - 1][j] - 2,\n",
    "                matrix[i][j - 1] - 2,)\n",
    "\n",
    "    traceback(matrix, row, col) # row and col refer the bottom right corner cell (row[6] & col[7] = 2)                \n",
    "    x_index,y_index = list(x), list(y)\n",
    "    x_index.insert(0,0)\n",
    "    y_index.insert(0,0)\n",
    "    df = pd.DataFrame(matrix, columns = y_index)\n",
    "    df.index = x_index\n",
    "    return df    \n",
    "\n",
    "matrix = alignment(x,y)"
   ]
  },
  {
   "cell_type": "markdown",
   "id": "20b6d3d2",
   "metadata": {},
   "source": [
    "# Alignment sequences \n",
    "- Alignment sequences assigned in variable x and y respectively\n",
    "- Variable y is referred as the first sequence\n",
    "- Variable x is referred as the second sequence"
   ]
  },
  {
   "cell_type": "code",
   "execution_count": 2,
   "id": "3ff3e671",
   "metadata": {},
   "outputs": [],
   "source": [
    "y = 'ATCCGAT'\n",
    "x = 'ATCTGT'"
   ]
  },
  {
   "cell_type": "markdown",
   "id": "894bbbae",
   "metadata": {},
   "source": [
    "# Result generation\n",
    "\n"
   ]
  },
  {
   "cell_type": "code",
   "execution_count": 33,
   "id": "b446f453",
   "metadata": {
    "scrolled": true
   },
   "outputs": [
    {
     "name": "stdout",
     "output_type": "stream",
     "text": [
      "Aligning sequence ATCCGAT as column index, and ATCTGT as row index\n",
      "\n",
      "Alignment matrix:\n",
      " \n",
      "   0  A  T  C  C  G  A  T\n",
      "0  0 -1 -2 -3 -4 -5 -6 -7\n",
      "A -1  1 -1 -3 -4 -5 -4 -6\n",
      "T -2 -1  2  0 -2 -4 -6 -3\n",
      "C -3 -3  0  3  1 -1 -3 -5\n",
      "T -4 -4 -2  1  2  0 -2 -2\n",
      "G -5 -5 -4 -1  0  3  1 -1\n",
      "T -6 -6 -4 -3 -2  1  2  2\n",
      "\n",
      "First sequence :\n",
      "A T C C G A T\n",
      "Second sequence :\n",
      "A T C T G - T\n"
     ]
    }
   ],
   "source": [
    "seq_length = max(len(x),len(y)) - 1\n",
    "int(seq_length)\n",
    "print(f'Aligning sequence {y} as column index, and {x} as row index\\n')\n",
    "print(f'Alignment matrix:\\n \\n{df}\\n') \n",
    "print('First sequence :')\n",
    "print(*np.array(first_seq[::-1])) # reversed traceback sequence\n",
    "print('Second sequence :')\n",
    "print(*np.array(second_seq[::-1])) # reversed traceback sequence\n"
   ]
  },
  {
   "cell_type": "markdown",
   "id": "dd070873",
   "metadata": {},
   "source": [
    "# Traceback Route\n",
    "- Traceback route is highlighted in the yellow"
   ]
  },
  {
   "cell_type": "code",
   "execution_count": 34,
   "id": "4f8db0bc",
   "metadata": {
    "scrolled": true
   },
   "outputs": [
    {
     "data": {
      "text/html": [
       "<div>\n",
       "<style scoped>\n",
       "    .dataframe tbody tr th:only-of-type {\n",
       "        vertical-align: middle;\n",
       "    }\n",
       "\n",
       "    .dataframe tbody tr th {\n",
       "        vertical-align: top;\n",
       "    }\n",
       "\n",
       "    .dataframe thead th {\n",
       "        text-align: right;\n",
       "    }\n",
       "</style>\n",
       "<table border=\"1\" class=\"dataframe\">\n",
       "  <thead>\n",
       "    <tr style=\"text-align: right;\">\n",
       "      <th></th>\n",
       "      <th>0</th>\n",
       "      <th>A</th>\n",
       "      <th>T</th>\n",
       "      <th>C</th>\n",
       "      <th>C</th>\n",
       "      <th>G</th>\n",
       "      <th>A</th>\n",
       "      <th>T</th>\n",
       "    </tr>\n",
       "  </thead>\n",
       "  <tbody>\n",
       "    <tr>\n",
       "      <th>0</th>\n",
       "      <td>0</td>\n",
       "      <td>-1</td>\n",
       "      <td>-2</td>\n",
       "      <td>-3</td>\n",
       "      <td>-4</td>\n",
       "      <td>-5</td>\n",
       "      <td>-6</td>\n",
       "      <td>-7</td>\n",
       "    </tr>\n",
       "    <tr>\n",
       "      <th>A</th>\n",
       "      <td>-1</td>\n",
       "      <td>1</td>\n",
       "      <td>-1</td>\n",
       "      <td>-3</td>\n",
       "      <td>-4</td>\n",
       "      <td>-5</td>\n",
       "      <td>-4</td>\n",
       "      <td>-6</td>\n",
       "    </tr>\n",
       "    <tr>\n",
       "      <th>T</th>\n",
       "      <td>-2</td>\n",
       "      <td>-1</td>\n",
       "      <td>2</td>\n",
       "      <td>0</td>\n",
       "      <td>-2</td>\n",
       "      <td>-4</td>\n",
       "      <td>-6</td>\n",
       "      <td>-3</td>\n",
       "    </tr>\n",
       "    <tr>\n",
       "      <th>C</th>\n",
       "      <td>-3</td>\n",
       "      <td>-3</td>\n",
       "      <td>0</td>\n",
       "      <td>3</td>\n",
       "      <td>1</td>\n",
       "      <td>-1</td>\n",
       "      <td>-3</td>\n",
       "      <td>-5</td>\n",
       "    </tr>\n",
       "    <tr>\n",
       "      <th>T</th>\n",
       "      <td>-4</td>\n",
       "      <td>-4</td>\n",
       "      <td>-2</td>\n",
       "      <td>1</td>\n",
       "      <td>2</td>\n",
       "      <td>0</td>\n",
       "      <td>-2</td>\n",
       "      <td>-2</td>\n",
       "    </tr>\n",
       "    <tr>\n",
       "      <th>G</th>\n",
       "      <td>-5</td>\n",
       "      <td>-5</td>\n",
       "      <td>-4</td>\n",
       "      <td>-1</td>\n",
       "      <td>0</td>\n",
       "      <td>3</td>\n",
       "      <td>1</td>\n",
       "      <td>-1</td>\n",
       "    </tr>\n",
       "    <tr>\n",
       "      <th>T</th>\n",
       "      <td>-6</td>\n",
       "      <td>-6</td>\n",
       "      <td>-4</td>\n",
       "      <td>-3</td>\n",
       "      <td>-2</td>\n",
       "      <td>1</td>\n",
       "      <td>2</td>\n",
       "      <td>2</td>\n",
       "    </tr>\n",
       "  </tbody>\n",
       "</table>\n",
       "</div>"
      ],
      "text/plain": [
       "   0  A  T  C  C  G  A  T\n",
       "0  0 -1 -2 -3 -4 -5 -6 -7\n",
       "A -1  1 -1 -3 -4 -5 -4 -6\n",
       "T -2 -1  2  0 -2 -4 -6 -3\n",
       "C -3 -3  0  3  1 -1 -3 -5\n",
       "T -4 -4 -2  1  2  0 -2 -2\n",
       "G -5 -5 -4 -1  0  3  1 -1\n",
       "T -6 -6 -4 -3 -2  1  2  2"
      ]
     },
     "execution_count": 34,
     "metadata": {},
     "output_type": "execute_result"
    }
   ],
   "source": [
    "df"
   ]
  }
 ],
 "metadata": {
  "kernelspec": {
   "display_name": "Python 3.10.8 64-bit (microsoft store)",
   "language": "python",
   "name": "python3"
  },
  "language_info": {
   "codemirror_mode": {
    "name": "ipython",
    "version": 3
   },
   "file_extension": ".py",
   "mimetype": "text/x-python",
   "name": "python",
   "nbconvert_exporter": "python",
   "pygments_lexer": "ipython3",
   "version": "3.10.8"
  },
  "vscode": {
   "interpreter": {
    "hash": "f68f7f6e936a2379902ade3d4fe5b5231ecd29e62f975957823cccc44bc63e47"
   }
  }
 },
 "nbformat": 4,
 "nbformat_minor": 5
}
